{
  "nbformat": 4,
  "nbformat_minor": 0,
  "metadata": {
    "colab": {
      "name": "Tetration!.ipynb",
      "provenance": [],
      "authorship_tag": "ABX9TyNjgOc9My2qVvg/Kq08t1XS",
      "include_colab_link": true
    },
    "kernelspec": {
      "name": "python3",
      "display_name": "Python 3"
    }
  },
  "cells": [
    {
      "cell_type": "markdown",
      "metadata": {
        "id": "view-in-github",
        "colab_type": "text"
      },
      "source": [
        "<a href=\"https://colab.research.google.com/github/YuvalMedina/Math/blob/master/Tetration.ipynb\" target=\"_parent\"><img src=\"https://colab.research.google.com/assets/colab-badge.svg\" alt=\"Open In Colab\"/></a>"
      ]
    },
    {
      "cell_type": "code",
      "metadata": {
        "id": "27JiloVvGPpy",
        "colab_type": "code",
        "colab": {}
      },
      "source": [
        "import math\n",
        "import numpy as np"
      ],
      "execution_count": 0,
      "outputs": []
    },
    {
      "cell_type": "code",
      "metadata": {
        "id": "7jxhLTXCGlq7",
        "colab_type": "code",
        "colab": {}
      },
      "source": [
        "def tetration(a,b):\n",
        "  #this performs tetration, i.e a^a^a... b times\n",
        "  t = 1.0\n",
        "  for i in range(b):\n",
        "    t = math.pow(a, t)\n",
        "    print(\"Step \" + repr(i) + \": \" + repr(t))\n",
        "  return t\n",
        "\n",
        "def tetration_inf(a):\n",
        "  assert(a <= math.pow(math.e, 1/math.e) and a >= math.pow(math.e, -math.e))\n",
        "  t = 1.0\n",
        "  t_last = 0.0\n",
        "  while(t - t_last > 10**-15):\n",
        "    t_last = t\n",
        "    t = math.pow(a, t)\n",
        "  return t"
      ],
      "execution_count": 0,
      "outputs": []
    },
    {
      "cell_type": "code",
      "metadata": {
        "id": "-Z_Z8X3xN70X",
        "colab_type": "code",
        "outputId": "198aa8c2-a0ae-4a55-d1c6-cff39985f9cf",
        "colab": {
          "base_uri": "https://localhost:8080/",
          "height": 884
        }
      },
      "source": [
        "tetration(1.1, 50)"
      ],
      "execution_count": 0,
      "outputs": [
        {
          "output_type": "stream",
          "text": [
            "Step 0: 1.1\n",
            "Step 1: 1.1105342410545758\n",
            "Step 2: 1.1116498000257782\n",
            "Step 3: 1.1117680015030489\n",
            "Step 4: 1.111780526534057\n",
            "Step 5: 1.1117818537372586\n",
            "Step 6: 1.111781994373198\n",
            "Step 7: 1.1117820092755646\n",
            "Step 8: 1.1117820108546812\n",
            "Step 9: 1.111782011022011\n",
            "Step 10: 1.1117820110397418\n",
            "Step 11: 1.1117820110416208\n",
            "Step 12: 1.11178201104182\n",
            "Step 13: 1.111782011041841\n",
            "Step 14: 1.1117820110418433\n",
            "Step 15: 1.1117820110418435\n",
            "Step 16: 1.1117820110418435\n",
            "Step 17: 1.1117820110418435\n",
            "Step 18: 1.1117820110418435\n",
            "Step 19: 1.1117820110418435\n",
            "Step 20: 1.1117820110418435\n",
            "Step 21: 1.1117820110418435\n",
            "Step 22: 1.1117820110418435\n",
            "Step 23: 1.1117820110418435\n",
            "Step 24: 1.1117820110418435\n",
            "Step 25: 1.1117820110418435\n",
            "Step 26: 1.1117820110418435\n",
            "Step 27: 1.1117820110418435\n",
            "Step 28: 1.1117820110418435\n",
            "Step 29: 1.1117820110418435\n",
            "Step 30: 1.1117820110418435\n",
            "Step 31: 1.1117820110418435\n",
            "Step 32: 1.1117820110418435\n",
            "Step 33: 1.1117820110418435\n",
            "Step 34: 1.1117820110418435\n",
            "Step 35: 1.1117820110418435\n",
            "Step 36: 1.1117820110418435\n",
            "Step 37: 1.1117820110418435\n",
            "Step 38: 1.1117820110418435\n",
            "Step 39: 1.1117820110418435\n",
            "Step 40: 1.1117820110418435\n",
            "Step 41: 1.1117820110418435\n",
            "Step 42: 1.1117820110418435\n",
            "Step 43: 1.1117820110418435\n",
            "Step 44: 1.1117820110418435\n",
            "Step 45: 1.1117820110418435\n",
            "Step 46: 1.1117820110418435\n",
            "Step 47: 1.1117820110418435\n",
            "Step 48: 1.1117820110418435\n",
            "Step 49: 1.1117820110418435\n"
          ],
          "name": "stdout"
        },
        {
          "output_type": "execute_result",
          "data": {
            "text/plain": [
              "1.1117820110418435"
            ]
          },
          "metadata": {
            "tags": []
          },
          "execution_count": 29
        }
      ]
    },
    {
      "cell_type": "code",
      "metadata": {
        "id": "RTuhHIBbPRro",
        "colab_type": "code",
        "outputId": "554c3a2a-a4ef-4a2b-b20e-125fb83f79a2",
        "colab": {
          "base_uri": "https://localhost:8080/",
          "height": 34
        }
      },
      "source": [
        "b = tetration_inf(1.1)\n",
        "math.pow(b, 1/b)"
      ],
      "execution_count": 0,
      "outputs": [
        {
          "output_type": "execute_result",
          "data": {
            "text/plain": [
              "1.1"
            ]
          },
          "metadata": {
            "tags": []
          },
          "execution_count": 27
        }
      ]
    },
    {
      "cell_type": "code",
      "metadata": {
        "id": "IGjIsGYEPXQ9",
        "colab_type": "code",
        "colab": {}
      },
      "source": [
        "import cmath\n",
        "\n",
        "def tetration_inf2(a, tol=10**-15, max_step=10**8):\n",
        "  # returns t, the infinite tetration of a.\n",
        "  # if t does not converge, the function returns an escape value.\n",
        "  #if(a.imag == 0):\n",
        "  #  assert(a <= math.pow(math.e, 1/math.e) and a >= math.pow(math.e, -math.e))\n",
        "  t = 1.0\n",
        "  t_last = 0.0\n",
        "  step = 0\n",
        "  escape = None\n",
        "  ln_a = cmath.log(a)\n",
        "  while(abs(t - t_last) > tol):\n",
        "    try:\n",
        "      if(step > max_step):\n",
        "        print(\"approaching stack overflow\")\n",
        "        raise OverflowError\n",
        "      t_last = t\n",
        "      t = cmath.exp(ln_a*t)\n",
        "      step += 1\n",
        "    except(OverflowError):\n",
        "      t = None\n",
        "      escape = 1000/step   # the escape value is greater if we reached overflow at a smaller step\n",
        "      break\n",
        "  return t, escape"
      ],
      "execution_count": 0,
      "outputs": []
    },
    {
      "cell_type": "code",
      "metadata": {
        "id": "RLmaK66taCGS",
        "colab_type": "code",
        "outputId": "f0df21d2-0e01-4fe7-efe5-0f699ae28af2",
        "colab": {
          "base_uri": "https://localhost:8080/",
          "height": 34
        }
      },
      "source": [
        "tetration_inf2(1.1)"
      ],
      "execution_count": 0,
      "outputs": [
        {
          "output_type": "execute_result",
          "data": {
            "text/plain": [
              "((1.1117820110418435+0j), None)"
            ]
          },
          "metadata": {
            "tags": []
          },
          "execution_count": 104
        }
      ]
    },
    {
      "cell_type": "code",
      "metadata": {
        "id": "-TakzQMkUBv5",
        "colab_type": "code",
        "outputId": "c3623c4a-9b28-4b98-9309-9a8aec6883d1",
        "colab": {
          "base_uri": "https://localhost:8080/",
          "height": 34
        }
      },
      "source": [
        "tetration_inf2(2)"
      ],
      "execution_count": 0,
      "outputs": [
        {
          "output_type": "execute_result",
          "data": {
            "text/plain": [
              "(None, 250.0)"
            ]
          },
          "metadata": {
            "tags": []
          },
          "execution_count": 103
        }
      ]
    },
    {
      "cell_type": "code",
      "metadata": {
        "id": "LdKAlfZiUfOZ",
        "colab_type": "code",
        "outputId": "f85a32de-ae7b-463b-dc75-b4e800644b51",
        "colab": {
          "base_uri": "https://localhost:8080/",
          "height": 34
        }
      },
      "source": [
        "tetration_inf2(20)"
      ],
      "execution_count": 0,
      "outputs": [
        {
          "output_type": "execute_result",
          "data": {
            "text/plain": [
              "(None, 500.0)"
            ]
          },
          "metadata": {
            "tags": []
          },
          "execution_count": 102
        }
      ]
    },
    {
      "cell_type": "code",
      "metadata": {
        "id": "FuBB9sNIUint",
        "colab_type": "code",
        "outputId": "2c6dc52c-b229-467a-8e7d-b212678152a8",
        "colab": {
          "base_uri": "https://localhost:8080/",
          "height": 34
        }
      },
      "source": [
        "tetration_inf2(1.45)"
      ],
      "execution_count": 0,
      "outputs": [
        {
          "output_type": "execute_result",
          "data": {
            "text/plain": [
              "(None, 23.25581395348837)"
            ]
          },
          "metadata": {
            "tags": []
          },
          "execution_count": 101
        }
      ]
    },
    {
      "cell_type": "code",
      "metadata": {
        "id": "qgBpQlYzUzeE",
        "colab_type": "code",
        "outputId": "a64a1d6e-416a-49e2-b0af-1d440fd1b1f6",
        "colab": {
          "base_uri": "https://localhost:8080/",
          "height": 34
        }
      },
      "source": [
        "tetration_inf2(1.448)"
      ],
      "execution_count": 0,
      "outputs": [
        {
          "output_type": "execute_result",
          "data": {
            "text/plain": [
              "(None, 18.181818181818183)"
            ]
          },
          "metadata": {
            "tags": []
          },
          "execution_count": 100
        }
      ]
    },
    {
      "cell_type": "code",
      "metadata": {
        "id": "gSFY3SUsVCqe",
        "colab_type": "code",
        "outputId": "883ca0af-bf65-4a6c-c773-6c6e36b4fee2",
        "colab": {
          "base_uri": "https://localhost:8080/",
          "height": 51
        }
      },
      "source": [
        "upper_tet = math.pow(math.e, 1/math.e)\n",
        "lower_tet = math.pow(math.e, -math.e)\n",
        "tetration_inf2(upper_tet + 10**-11)"
      ],
      "execution_count": 0,
      "outputs": [
        {
          "output_type": "stream",
          "text": [
            "approaching stack overflow\n"
          ],
          "name": "stdout"
        },
        {
          "output_type": "execute_result",
          "data": {
            "text/plain": [
              "(None, 0.000999999000001)"
            ]
          },
          "metadata": {
            "tags": []
          },
          "execution_count": 107
        }
      ]
    },
    {
      "cell_type": "code",
      "metadata": {
        "id": "Ad5NZCB1aQ8P",
        "colab_type": "code",
        "outputId": "1033694a-3608-44eb-e70e-a0bee4caf15f",
        "colab": {
          "base_uri": "https://localhost:8080/",
          "height": 51
        }
      },
      "source": [
        "tetration_inf2(upper_tet)"
      ],
      "execution_count": 0,
      "outputs": [
        {
          "output_type": "stream",
          "text": [
            "approaching stack overflow\n"
          ],
          "name": "stdout"
        },
        {
          "output_type": "execute_result",
          "data": {
            "text/plain": [
              "(None, 9.9999990000001e-05)"
            ]
          },
          "metadata": {
            "tags": []
          },
          "execution_count": 116
        }
      ]
    },
    {
      "cell_type": "code",
      "metadata": {
        "id": "tNp_ERB0VWz5",
        "colab_type": "code",
        "outputId": "eabd80bb-92f4-49e7-d9a3-0dffaa550e15",
        "colab": {
          "base_uri": "https://localhost:8080/",
          "height": 34
        }
      },
      "source": [
        "tetration_inf2(upper_tet - 10**-13)\n",
        "#does not terminate after 10**-13"
      ],
      "execution_count": 0,
      "outputs": [
        {
          "output_type": "execute_result",
          "data": {
            "text/plain": [
              "((2.7182801590009764+0j), None)"
            ]
          },
          "metadata": {
            "tags": []
          },
          "execution_count": 119
        }
      ]
    },
    {
      "cell_type": "code",
      "metadata": {
        "id": "7ZFUyPXMW_WG",
        "colab_type": "code",
        "outputId": "31196fc3-32c5-455a-d6a5-d7a030b42b0b",
        "colab": {
          "base_uri": "https://localhost:8080/",
          "height": 51
        }
      },
      "source": [
        "tetration_inf2(lower_tet+10**-10)"
      ],
      "execution_count": 0,
      "outputs": [
        {
          "output_type": "stream",
          "text": [
            "approaching stack overflow\n"
          ],
          "name": "stdout"
        },
        {
          "output_type": "execute_result",
          "data": {
            "text/plain": [
              "(None, 9.9999990000001e-05)"
            ]
          },
          "metadata": {
            "tags": []
          },
          "execution_count": 115
        }
      ]
    },
    {
      "cell_type": "code",
      "metadata": {
        "id": "xS4ZzkDGXB5p",
        "colab_type": "code",
        "outputId": "1830f765-fe40-474e-8135-4f3c2a0cf8b9",
        "colab": {
          "base_uri": "https://localhost:8080/",
          "height": 51
        }
      },
      "source": [
        "tetration_inf2(lower_tet-10**-1) #wrong, we need to check for oscillating variables"
      ],
      "execution_count": 0,
      "outputs": [
        {
          "output_type": "stream",
          "text": [
            "approaching stack overflow\n"
          ],
          "name": "stdout"
        },
        {
          "output_type": "execute_result",
          "data": {
            "text/plain": [
              "(None, 0.000999999000001)"
            ]
          },
          "metadata": {
            "tags": []
          },
          "execution_count": 96
        }
      ]
    },
    {
      "cell_type": "code",
      "metadata": {
        "id": "GNScoGk9YLaw",
        "colab_type": "code",
        "outputId": "812bcef1-2636-4480-f848-d787835f4d9d",
        "colab": {
          "base_uri": "https://localhost:8080/",
          "height": 34
        }
      },
      "source": [
        "tetration_inf2(1j)"
      ],
      "execution_count": 0,
      "outputs": [
        {
          "output_type": "execute_result",
          "data": {
            "text/plain": [
              "((0.43828295217132285+0.3605924671908542j), None)"
            ]
          },
          "metadata": {
            "tags": []
          },
          "execution_count": 93
        }
      ]
    },
    {
      "cell_type": "code",
      "metadata": {
        "id": "lA_F8aHZXait",
        "colab_type": "code",
        "colab": {}
      },
      "source": [
        "def tetration_inf(a, tol=10**-15, max_step=10**6):\n",
        "  # returns t, the infinite tetration of a.\n",
        "  # if t does not converge, the function returns an escape value.\n",
        "  #if(a.imag == 0):\n",
        "  #  assert(a <= math.pow(math.e, 1/math.e) and a >= math.pow(math.e, -math.e))\n",
        "  t = 1.0\n",
        "  t_last = 0.0\n",
        "  step = 0\n",
        "  escape = None\n",
        "  while(t - t_last > tol):\n",
        "    try:\n",
        "      if(step > max_step):\n",
        "        raise OverflowError\n",
        "      t_last = t\n",
        "      t = math.pow(a, t)\n",
        "      step += 1\n",
        "    except(OverflowError):\n",
        "      t = None\n",
        "      escape = 1000/step   # the escape value is greater if we reached overflow at a smaller step\n",
        "      break\n",
        "  return t, escape\n",
        "  import cmath\n",
        "\n",
        "def tetration_com(base, tol=10**-15, max_step=10**6, max_val=10**2):\n",
        "  # returns t, the infinite tetration of base.\n",
        "  # if t does not converge, the function returns an escape value\n",
        "  # aka how fast it diverges..\n",
        "\n",
        "  t = 1.0\n",
        "  step = 0\n",
        "  escape = None\n",
        "\n",
        "  t_last = 0\n",
        "  try:\n",
        "    while(abs(t - t_last) > tol):\n",
        "      if(step > max_step or abs(t) > max_val):\n",
        "        raise OverflowError\n",
        "      t_last = t\n",
        "      t = pow(base, t)\n",
        "      step += 1\n",
        "  except(OverflowError):\n",
        "    t = None\n",
        "    escape = 1000/step\n",
        "    # the escape value is is inversely related to the number of steps it took\n",
        "    # us to diverge to infinity\n",
        "\n",
        "  return t, escape"
      ],
      "execution_count": 0,
      "outputs": []
    },
    {
      "cell_type": "code",
      "metadata": {
        "id": "csDvWpCYnOMT",
        "colab_type": "code",
        "outputId": "6d70fb37-7a8c-413a-83c2-62fd5dfdf861",
        "colab": {
          "base_uri": "https://localhost:8080/",
          "height": 34
        }
      },
      "source": [
        "tetration_com(1.1)"
      ],
      "execution_count": 0,
      "outputs": [
        {
          "output_type": "execute_result",
          "data": {
            "text/plain": [
              "(1.1117820110418435, None)"
            ]
          },
          "metadata": {
            "tags": []
          },
          "execution_count": 172
        }
      ]
    },
    {
      "cell_type": "code",
      "metadata": {
        "id": "C2poFR6qnzjx",
        "colab_type": "code",
        "colab": {}
      },
      "source": [
        "def tetra_graph_escape(real, imag, tol=10**-15, max_step=10**3, max_val=10**2):\n",
        "  return np.array([np.array([tetration_com(r + im*1j, tol=tol, max_step=max_step, max_val=max_val)[1]\n",
        "                             for im in imag]) for r in real])\n",
        "\n",
        "def tetra_graph_conv(real, imag, tol=10**10-15, max_step=10**3, max_val=10**2):\n",
        "  return np.array([np.array([tetration_com(r + im*1j, tol=tol, max_step=max_step, max_val=max_val)[0]\n",
        "                             for im in imag]) for r in real])"
      ],
      "execution_count": 0,
      "outputs": []
    },
    {
      "cell_type": "code",
      "metadata": {
        "id": "3I1_2LKVbF3b",
        "colab_type": "code",
        "colab": {}
      },
      "source": [
        "# graph our escape:\n",
        "nx, ny = 700, 500\n",
        "x, y = np.linspace(-3.5, 3.5, nx), np.linspace(-2.5, 2.5, ny)\n",
        "\n",
        "val, escape = tetra_graph_conv(x, y), tetra_graph_escape(x, y)"
      ],
      "execution_count": 0,
      "outputs": []
    },
    {
      "cell_type": "code",
      "metadata": {
        "id": "BDSXwt3qrLp4",
        "colab_type": "code",
        "outputId": "04c7d25c-2dcc-49ce-efa8-5d398db61549",
        "colab": {
          "base_uri": "https://localhost:8080/",
          "height": 282
        }
      },
      "source": [
        "import matplotlib.pyplot as plt\n",
        "\n",
        "for r in range(len(escape)):\n",
        "  for c in range(len(escape[0])):\n",
        "    if escape[r][c] is None:\n",
        "      escape[r][c] = -100\n",
        "\n",
        "escape[460][250]\n",
        "\n",
        "plt.contour(escape.T)"
      ],
      "execution_count": 0,
      "outputs": [
        {
          "output_type": "execute_result",
          "data": {
            "text/plain": [
              "<matplotlib.contour.QuadContourSet at 0x7f5494713278>"
            ]
          },
          "metadata": {
            "tags": []
          },
          "execution_count": 199
        },
        {
          "output_type": "display_data",
          "data": {
            "image/png": "[encoded data removed]",
            "text/plain": [
              "<Figure size 432x288 with 1 Axes>"
            ]
          },
          "metadata": {
            "tags": [],
            "needs_background": "light"
          }
        }
      ]
    },
    {
      "cell_type": "code",
      "metadata": {
        "id": "tfX9fIWaw-QF",
        "colab_type": "code",
        "colab": {}
      },
      "source": [
        ""
      ],
      "execution_count": 0,
      "outputs": []
    }
  ]
}